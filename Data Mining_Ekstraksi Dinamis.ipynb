{
 "cells": [
  {
   "cell_type": "code",
   "execution_count": 1,
   "id": "322a77b5",
   "metadata": {},
   "outputs": [
    {
     "name": "stdout",
     "output_type": "stream",
     "text": [
      "Menggunakan Selenium untuk membuka: http://quotes.toscrape.com/js/\n",
      "\n",
      "Menunggu JavaScript memuat data... (5 detik)\n",
      "Berhasil menemukan 10 kutipan (via Selenium):\n",
      "\n",
      "\"“The world as we have created it is a process of our thinking. It cannot be changed without changing our thinking.”\" - Albert Einstein\n",
      "---\n",
      "\"“It is our choices, Harry, that show what we truly are, far more than our abilities.”\" - J.K. Rowling\n",
      "---\n",
      "\"“There are only two ways to live your life. One is as though nothing is a miracle. The other is as though everything is a miracle.”\" - Albert Einstein\n",
      "---\n",
      "\"“The person, be it gentleman or lady, who has not pleasure in a good novel, must be intolerably stupid.”\" - Jane Austen\n",
      "---\n",
      "\"“Imperfection is beauty, madness is genius and it's better to be absolutely ridiculous than absolutely boring.”\" - Marilyn Monroe\n",
      "---\n",
      "\"“Try not to become a man of success. Rather become a man of value.”\" - Albert Einstein\n",
      "---\n",
      "\"“It is better to be hated for what you are than to be loved for what you are not.”\" - André Gide\n",
      "---\n",
      "\"“I have not failed. I've just found 10,000 ways that won't work.”\" - Thomas A. Edison\n",
      "---\n",
      "\"“A woman is like a tea bag; you never know how strong it is until it's in hot water.”\" - Eleanor Roosevelt\n",
      "---\n",
      "\"“A day without sunshine is like, you know, night.”\" - Steve Martin\n",
      "---\n"
     ]
    }
   ],
   "source": [
    "# Pastikan install libraries:\n",
    "# pip install selenium webdriver-manager\n",
    "\n",
    "from selenium import webdriver\n",
    "from selenium.webdriver.common.by import By\n",
    "from selenium.webdriver.chrome.service import Service\n",
    "from webdriver_manager.chrome import ChromeDriverManager\n",
    "import time\n",
    "\n",
    "# Target: Versi dinamis (JavaScript) dari web yang sama\n",
    "url = 'http://quotes.toscrape.com/js/'\n",
    "\n",
    "print(f\"Menggunakan Selenium untuk membuka: {url}\\n\")\n",
    "\n",
    "# Setup driver Chrome secara otomatis\n",
    "try:\n",
    "    service = Service(ChromeDriverManager().install())\n",
    "    driver = webdriver.Chrome(service=service)\n",
    "except ValueError:\n",
    "    print(\"Gagal menginstall/menemukan driver Chrome. Pastikan Chrome terinstall.\")\n",
    "    exit()\n",
    "\n",
    "# Buka halaman\n",
    "driver.get(url)\n",
    "\n",
    "# INI BAGIAN PENTING:\n",
    "# Tunggu beberapa detik agar JavaScript selesai memuat konten\n",
    "# (Di aplikasi nyata, gunakan WebDriverWait, tapi sleep() paling simpel)\n",
    "print(\"Menunggu JavaScript memuat data... (5 detik)\")\n",
    "time.sleep(5) \n",
    "\n",
    "# Mencari elemen (mirip BeautifulSoup, tapi sintaks Selenium)\n",
    "# Kita cari <div> dengan class 'quote'\n",
    "quotes = driver.find_elements(By.CLASS_NAME, 'quote')\n",
    "\n",
    "if not quotes:\n",
    "    print(\"Tidak menemukan elemen <div> dengan class 'quote' setelah menunggu.\")\n",
    "else:\n",
    "    print(f\"Berhasil menemukan {len(quotes)} kutipan (via Selenium):\\n\")\n",
    "    \n",
    "    # Iterasi dan ekstrak .text\n",
    "    for quote in quotes:\n",
    "        text = quote.find_element(By.CLASS_NAME, 'text').text\n",
    "        author = quote.find_element(By.CLASS_NAME, 'author').text\n",
    "        \n",
    "        print(f'\"{text}\" - {author}')\n",
    "        print('---')\n",
    "\n",
    "# Selalu tutup driver setelah selesai\n",
    "driver.quit()"
   ]
  },
  {
   "cell_type": "code",
   "execution_count": null,
   "id": "2afbfd72",
   "metadata": {},
   "outputs": [],
   "source": []
  }
 ],
 "metadata": {
  "kernelspec": {
   "display_name": "Python 3",
   "language": "python",
   "name": "python3"
  },
  "language_info": {
   "codemirror_mode": {
    "name": "ipython",
    "version": 3
   },
   "file_extension": ".py",
   "mimetype": "text/x-python",
   "name": "python",
   "nbconvert_exporter": "python",
   "pygments_lexer": "ipython3",
   "version": "3.13.7"
  }
 },
 "nbformat": 4,
 "nbformat_minor": 5
}
